{
 "cells": [
  {
   "cell_type": "markdown",
   "metadata": {},
   "source": [
    "# ArXiv dataset with Weaviate"
   ]
  },
  {
   "cell_type": "code",
   "execution_count": 41,
   "metadata": {},
   "outputs": [],
   "source": [
    "import weaviate\n",
    "import json\n",
    "import tqdm\n",
    "import re\n",
    "import time\n",
    "\n",
    "year_pattern = r'([1-2][0-9]{3})'"
   ]
  },
  {
   "cell_type": "code",
   "execution_count": 42,
   "metadata": {},
   "outputs": [],
   "source": [
    "def get_client():\n",
    "    client = weaviate.Client(\"http://localhost:8080\")\n",
    "    meta_info = client.get_meta()\n",
    "    print(meta_info)\n",
    "    return client"
   ]
  },
  {
   "cell_type": "code",
   "execution_count": 43,
   "metadata": {},
   "outputs": [
    {
     "name": "stdout",
     "output_type": "stream",
     "text": [
      "{'contextionaryVersion': 'en0.16.0-v0.4.19', 'contextionaryWordCount': 818107, 'hostname': 'http://[::]:8080', 'version': '0.22.15'}\n"
     ]
    }
   ],
   "source": [
    "client = get_client()"
   ]
  },
  {
   "cell_type": "code",
   "execution_count": 44,
   "metadata": {},
   "outputs": [],
   "source": [
    "# get ids of categories\n",
    "def get_ids_of_categories():\n",
    "    categories_with_uuids = client.query.get.things(\"Category\", [\"id\", \"uuid\"]).with_limit(2000).do()\n",
    "    categories_with_uuids = categories_with_uuids['data']['Get']['Things']['Category']\n",
    "    categories_with_uuids_dict = {}\n",
    "    for category in categories_with_uuids:\n",
    "        categories_with_uuids_dict[category['id']] = category['uuid']\n",
    "    return categories_with_uuids_dict"
   ]
  },
  {
   "cell_type": "code",
   "execution_count": 45,
   "metadata": {},
   "outputs": [],
   "source": [
    "categories_with_uuids_dict = get_ids_of_categories()"
   ]
  },
  {
   "cell_type": "code",
   "execution_count": 46,
   "metadata": {},
   "outputs": [],
   "source": [
    "# {title, doi, year, journalReference, arXivId, submitter, abstract, comments, hasCategories, versionHistory, lastestVersionCreated, lastestVersion, pdfLink, link, licence, reportNumber, hasAuthors, inJournal}\n",
    "def get_metadata():\n",
    "    with open('../data/arxiv-metadata-oai.json', 'r') as f:\n",
    "        for line in f:\n",
    "            yield line"
   ]
  },
  {
   "cell_type": "code",
   "execution_count": 47,
   "metadata": {},
   "outputs": [
    {
     "name": "stdout",
     "output_type": "stream",
     "text": [
      "id: 0704.0001\n",
      "submitter: Pavel Nadolsky\n",
      "authors: C. Bal\\'azs, E. L. Berger, P. M. Nadolsky, C.-P. Yuan\n",
      "title: Calculation of prompt diphoton production cross sections at Tevatron and\n",
      "  LHC energies\n",
      "comments: 37 pages, 15 figures; published version\n",
      "journal-ref: Phys.Rev.D76:013009,2007\n",
      "doi: 10.1103/PhysRevD.76.013009\n",
      "abstract:   A fully differential calculation in perturbative quantum chromodynamics is\n",
      "presented for the production of massive photon pairs at hadron colliders. All\n",
      "next-to-leading order perturbative contributions from quark-antiquark,\n",
      "gluon-(anti)quark, and gluon-gluon subprocesses are included, as well as\n",
      "all-orders resummation of initial-state gluon radiation valid at\n",
      "next-to-next-to-leading logarithmic accuracy. The region of phase space is\n",
      "specified in which the calculation is most reliable. Good agreement is\n",
      "demonstrated with data from the Fermilab Tevatron, and predictions are made for\n",
      "more detailed tests with CDF and DO data. Predictions are shown for\n",
      "distributions of diphoton pairs produced at the energy of the Large Hadron\n",
      "Collider (LHC). Distributions of the diphoton pairs from the decay of a Higgs\n",
      "boson are contrasted with those produced from QCD processes at the LHC, showing\n",
      "that enhanced sensitivity to the signal can be obtained with judicious\n",
      "selection of events.\n",
      "\n",
      "report-no: ANL-HEP-PR-07-12\n",
      "categories: ['hep-ph']\n",
      "versions: ['v1', 'v2']\n"
     ]
    }
   ],
   "source": [
    "# test\n",
    "metadata = get_metadata()\n",
    "for paper in metadata:\n",
    "    for k, v in json.loads(paper).items():\n",
    "        print(f'{k}: {v}')\n",
    "    break"
   ]
  },
  {
   "cell_type": "code",
   "execution_count": 48,
   "metadata": {},
   "outputs": [],
   "source": [
    "def get_journal_name(a_string):\n",
    "    splitted = re.split('([0-9]+)', a_string)\n",
    "    return splitted[0]"
   ]
  },
  {
   "cell_type": "code",
   "execution_count": 49,
   "metadata": {},
   "outputs": [],
   "source": [
    "def get_journal_uuid(name):\n",
    "    # check if journal exists\n",
    "    where_filter = {\n",
    "      \"path\": [\"name\"],\n",
    "      \"operator\": \"Equal\",\n",
    "      \"valueString\": name\n",
    "    }\n",
    "\n",
    "    result = client.query.get.things(\"Journal\", [\"uuid\"]).with_where(where_filter).with_limit(10000).do()\n",
    "    \n",
    "    journals = result['data']['Get']['Things']['Journal']\n",
    "    if len(journals) > 0:\n",
    "        return journals[0][\"uuid\"]\n",
    "    else: # journal does not exist yet\n",
    "        data_obj = {\"name\": name}\n",
    "        create_result = client.data_object.create(data_obj, \"Journal\")\n",
    "        time.sleep(1)\n",
    "        return create_result"
   ]
  },
  {
   "cell_type": "code",
   "execution_count": 50,
   "metadata": {},
   "outputs": [],
   "source": [
    "def format_author_name(author):\n",
    "    regex = re.compile(r'[\\n\\r\\t\\'\\\\\\\"\\`]')\n",
    "    return regex.sub('', author)"
   ]
  },
  {
   "cell_type": "code",
   "execution_count": 51,
   "metadata": {},
   "outputs": [],
   "source": [
    "def get_author_uuid(name):\n",
    "    # check if journal exists\n",
    "    where_filter = {\n",
    "      \"path\": [\"name\"],\n",
    "      \"operator\": \"Equal\",\n",
    "      \"valueString\": name\n",
    "    }\n",
    "\n",
    "    result = client.query.get.things(\"Author\", [\"uuid\"]).with_where(where_filter).with_limit(10000).do()\n",
    "    authors = result['data']['Get']['Things']['Author']\n",
    "    if len(authors) > 0:\n",
    "        return authors[0][\"uuid\"]\n",
    "    else: # journal does not exist yet\n",
    "        data_obj = {\"name\": name}\n",
    "        create_result = client.data_object.create(data_obj, \"Author\")\n",
    "        time.sleep(1)\n",
    "        return create_result"
   ]
  },
  {
   "cell_type": "code",
   "execution_count": 52,
   "metadata": {},
   "outputs": [],
   "source": [
    "def extract_year(paper_id):\n",
    "    year = 2000 + int(paper_id[:2])\n",
    "        \n",
    "    return year"
   ]
  },
  {
   "cell_type": "code",
   "execution_count": 53,
   "metadata": {},
   "outputs": [],
   "source": [
    "def add_papers():\n",
    "    metadata = get_metadata()\n",
    "\n",
    "    batch = weaviate.ThingsBatchRequest()\n",
    "    no_papers_in_batch  = 0\n",
    "\n",
    "    test_round = 1\n",
    "\n",
    "    for paper in metadata:\n",
    "        paper = json.loads(paper)\n",
    "        paper_object = {}\n",
    "\n",
    "        if paper[\"title\"] is not None: paper_object[\"title\"] = paper[\"title\"].replace('\\n', ' ')\n",
    "        if paper[\"doi\"] is not None: paper_object[\"doi\"] = paper[\"doi\"]\n",
    "        if paper[\"journal-ref\"] is not None: paper_object[\"journalReference\"] = paper[\"journal-ref\"]\n",
    "        if paper[\"id\"] is not None: paper_object[\"arxivId\"] = paper[\"id\"]\n",
    "        if paper[\"submitter\"] is not None: paper_object[\"submitter\"] = paper[\"submitter\"]\n",
    "        if paper[\"abstract\"] is not None: paper_object[\"abstract\"] = paper[\"abstract\"].replace('\\n', ' ')\n",
    "        if paper[\"comments\"] is not None: paper_object[\"comments\"] = paper[\"comments\"]\n",
    "        if paper[\"report-no\"] is not None: paper_object[\"reportNumber\"] = paper[\"report-no\"]\n",
    "        if paper[\"versions\"] is not None: \n",
    "            paper_object[\"versionHistory\"] = str(paper[\"versions\"]).strip('[]')\n",
    "            paper_object[\"lastestVersion\"] = paper[\"versions\"][-1]\n",
    "\n",
    "        # try to extract year\n",
    "        if paper[\"id\"] is not None:\n",
    "            year = extract_year(paper[\"id\"])\n",
    "            paper_object[\"year\"] = year\n",
    "\n",
    "        paper_object[\"hasCategories\"] = []\n",
    "        for category in paper[\"categories\"][0].split(' '): # id of category\n",
    "            # create beacon\n",
    "            beacon_url = \"weaviate://localhost/things/\" + categories_with_uuids_dict[category]\n",
    "            beacon = {\"beacon\": beacon_url}\n",
    "            paper_object[\"hasCategories\"].append(beacon)\n",
    "\n",
    "        # journal\n",
    "        if paper[\"journal-ref\"] is not None:\n",
    "            journal_name = get_journal_name(paper[\"journal-ref\"])\n",
    "            journal_uuid = get_journal_uuid(journal_name.replace('\\n', ' '))\n",
    "\n",
    "            beacon = \"weaviate://localhost/things/\" + journal_uuid\n",
    "            paper_object['inJournal'] = [{\n",
    "                \"beacon\": beacon\n",
    "            }]\n",
    "\n",
    "        # authors\n",
    "        if paper[\"authors\"] is not None:\n",
    "\n",
    "            # remove everything between parentheses (twice for recursion)\n",
    "            result = format_author_name(paper[\"authors\"])\n",
    "            result = re.sub(r'\\(.*\\)', '', result)\n",
    "            result = re.sub(\"[\\(\\[\\{].*?[\\)\\]\\}]\", \"\", result)\n",
    "\n",
    "            authors = result.split(', ')\n",
    "\n",
    "            authors_object = []\n",
    "            for author in authors:\n",
    "                author_uuid = get_author_uuid(author)\n",
    "                beacon = \"weaviate://localhost/things/\" + author_uuid\n",
    "                authors_object.append({'beacon': beacon})\n",
    "\n",
    "            if len(authors_object) > 0:\n",
    "                paper_object['hasAuthors'] = authors_object\n",
    "\n",
    "        batch.add_thing(paper_object, \"Paper\") \n",
    "        no_papers_in_batch += 1\n",
    "        if no_papers_in_batch > 9:\n",
    "            result = client.batch.create_things(batch)\n",
    "            batch = weaviate.ThingsBatchRequest()\n",
    "            no_papers_in_batch = 0\n",
    "            test_round += 1\n",
    "\n",
    "        if test_round > 1:\n",
    "            break\n",
    "\n",
    "    # TO DO: lastestVersionCreated, pdfLink, link, licence, hasAuthors}"
   ]
  },
  {
   "cell_type": "code",
   "execution_count": 54,
   "metadata": {},
   "outputs": [],
   "source": [
    "def add_articles_to_authors():\n",
    "    query = \"{Get {Things {Paper {uuid HasAuthors {... on Author {name uuid}}}}}}\"\n",
    "    result = client.query.raw(query)\n",
    "    \n",
    "    data = result['data']['Get']['Things']['Paper']\n",
    "    \n",
    "    for paper in data:\n",
    "        paper_uuid = paper[\"uuid\"]\n",
    "        authors = paper[\"HasAuthors\"]\n",
    "        \n",
    "        for author in authors:\n",
    "            author_uuid = author[\"uuid\"]\n",
    "            client.data_object.reference.add(author_uuid, \"wrotePapers\", paper_uuid)"
   ]
  },
  {
   "cell_type": "code",
   "execution_count": 55,
   "metadata": {},
   "outputs": [],
   "source": [
    "add_papers()\n",
    "time.sleep(2)\n",
    "add_articles_to_authors()"
   ]
  },
  {
   "cell_type": "code",
   "execution_count": null,
   "metadata": {},
   "outputs": [],
   "source": []
  }
 ],
 "metadata": {
  "kernelspec": {
   "display_name": "Python 3",
   "language": "python",
   "name": "python3"
  },
  "language_info": {
   "codemirror_mode": {
    "name": "ipython",
    "version": 3
   },
   "file_extension": ".py",
   "mimetype": "text/x-python",
   "name": "python",
   "nbconvert_exporter": "python",
   "pygments_lexer": "ipython3",
   "version": "3.8.5"
  }
 },
 "nbformat": 4,
 "nbformat_minor": 4
}
